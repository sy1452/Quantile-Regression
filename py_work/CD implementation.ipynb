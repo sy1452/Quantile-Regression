{
 "cells": [
  {
   "cell_type": "code",
   "execution_count": 1,
   "id": "2a353a45",
   "metadata": {},
   "outputs": [],
   "source": [
    "%matplotlib inline\n",
    "\n",
    "import numpy as np\n",
    "import pandas as pd\n",
    "import itertools\n",
    "import statsmodels.api as sm\n",
    "import statsmodels.formula.api as smf\n",
    "import matplotlib.pyplot as plt\n",
    "import random\n",
    "from sklearn.preprocessing import StandardScaler"
   ]
  },
  {
   "cell_type": "code",
   "execution_count": 63,
   "id": "ada8e723",
   "metadata": {},
   "outputs": [],
   "source": [
    "# 1857년 노동 계급 벨기에 가정의 가구 소득 및 식품 소비 데이터(엥겔 데이터)\n",
    "engel = sm.datasets.engel.load_pandas().data"
   ]
  },
  {
   "cell_type": "code",
   "execution_count": 64,
   "id": "2fbb8fe9",
   "metadata": {},
   "outputs": [
    {
     "data": {
      "text/html": [
       "<div>\n",
       "<style scoped>\n",
       "    .dataframe tbody tr th:only-of-type {\n",
       "        vertical-align: middle;\n",
       "    }\n",
       "\n",
       "    .dataframe tbody tr th {\n",
       "        vertical-align: top;\n",
       "    }\n",
       "\n",
       "    .dataframe thead th {\n",
       "        text-align: right;\n",
       "    }\n",
       "</style>\n",
       "<table border=\"1\" class=\"dataframe\">\n",
       "  <thead>\n",
       "    <tr style=\"text-align: right;\">\n",
       "      <th></th>\n",
       "      <th>income</th>\n",
       "      <th>foodexp</th>\n",
       "    </tr>\n",
       "  </thead>\n",
       "  <tbody>\n",
       "    <tr>\n",
       "      <th>0</th>\n",
       "      <td>420.157651</td>\n",
       "      <td>255.839425</td>\n",
       "    </tr>\n",
       "    <tr>\n",
       "      <th>1</th>\n",
       "      <td>541.411707</td>\n",
       "      <td>310.958667</td>\n",
       "    </tr>\n",
       "  </tbody>\n",
       "</table>\n",
       "</div>"
      ],
      "text/plain": [
       "       income     foodexp\n",
       "0  420.157651  255.839425\n",
       "1  541.411707  310.958667"
      ]
     },
     "execution_count": 64,
     "metadata": {},
     "output_type": "execute_result"
    }
   ],
   "source": [
    "engel.head(2)"
   ]
  },
  {
   "cell_type": "code",
   "execution_count": 65,
   "id": "31c45ee9",
   "metadata": {},
   "outputs": [],
   "source": [
    "# 데이터 표준화\n",
    "scaler = StandardScaler()\n",
    "scaler.fit(engel)\n",
    "engel_scaled = scaler.transform(engel)\n",
    "\n",
    "engel_scaled = pd.DataFrame(engel_scaled, columns = engel.columns )"
   ]
  },
  {
   "cell_type": "code",
   "execution_count": 66,
   "id": "2e083723",
   "metadata": {},
   "outputs": [],
   "source": [
    "y = engel_scaled['income'].values"
   ]
  },
  {
   "cell_type": "code",
   "execution_count": 67,
   "id": "b92acd44",
   "metadata": {},
   "outputs": [
    {
     "name": "stderr",
     "output_type": "stream",
     "text": [
      "C:\\Users\\sypar\\anaconda3\\lib\\site-packages\\statsmodels\\tsa\\tsatools.py:142: FutureWarning: In a future version of pandas all arguments of concat except for the argument 'objs' will be keyword-only\n",
      "  x = pd.concat(x[::order], 1)\n"
     ]
    }
   ],
   "source": [
    "X = engel_scaled['foodexp']\n",
    "X = sm.add_constant(X)\n",
    "X = X.values"
   ]
  },
  {
   "cell_type": "code",
   "execution_count": 68,
   "id": "7deda4b1",
   "metadata": {},
   "outputs": [
    {
     "name": "stdout",
     "output_type": "stream",
     "text": [
      "235 2\n"
     ]
    }
   ],
   "source": [
    "n = X.shape[0]   # the number of data\n",
    "p = X.shape[1]   # the number of parameters\n",
    "print(n, p)"
   ]
  },
  {
   "cell_type": "code",
   "execution_count": 69,
   "id": "fc5c4684",
   "metadata": {},
   "outputs": [],
   "source": [
    "y = y.reshape(n, 1)\n",
    "beta_T= np.ones((p, 1))"
   ]
  },
  {
   "cell_type": "code",
   "execution_count": 9,
   "id": "c12907d7",
   "metadata": {},
   "outputs": [],
   "source": [
    "# X = n*p\n",
    "# y = n*1\n",
    "# beta_T = p*1"
   ]
  },
  {
   "cell_type": "code",
   "execution_count": null,
   "id": "9ad0d4ef",
   "metadata": {},
   "outputs": [],
   "source": []
  },
  {
   "cell_type": "code",
   "execution_count": 13,
   "id": "5bf4a51c",
   "metadata": {},
   "outputs": [],
   "source": [
    "def G(X, y, beta_T, tau, lambda_value):\n",
    "    # 행렬 차수\n",
    "    n, p = X.shape\n",
    "    \n",
    "    # 벡터 계산\n",
    "    X_beta = X @ beta_T   # (n*p) * (p*1)  => (n*1)\n",
    "    \n",
    "    # 잔차\n",
    "    res = y - X_beta     # (n*1) - (n*1)\n",
    "    \n",
    "    # QR loss term\n",
    "    loss = [tau*i if i >=0 else (tau-1)*i for i in res]\n",
    "    first_term = sum(loss)/n                \n",
    "    \n",
    "    # lambda absolute beta term\n",
    "    second_term = lambda_value*sum(beta_T)\n",
    "    \n",
    "    return first_term + second_term"
   ]
  },
  {
   "cell_type": "code",
   "execution_count": 14,
   "id": "9ffadc71",
   "metadata": {},
   "outputs": [
    {
     "data": {
      "text/plain": [
       "array([2.26477037])"
      ]
     },
     "execution_count": 14,
     "metadata": {},
     "output_type": "execute_result"
    }
   ],
   "source": [
    "G(X, y, beta_T, 0.75, 1)"
   ]
  },
  {
   "cell_type": "code",
   "execution_count": 15,
   "id": "b2b47a99",
   "metadata": {},
   "outputs": [],
   "source": [
    "def H(beta_T, lambda_value, gamma_value, a_value):\n",
    "    # MCL - lambda*sum of |beta|\n",
    "    h_beta = [i**2/(2*a_value) \n",
    "              if 0 <= abs(i) < a_value*(lambda_value - gamma_value)\n",
    "              else (lambda_value - gamma_value)*abs(i) - a_value*(lambda_value**2 - gamma_value**2)/2 \n",
    "              for i in beta_T]\n",
    "    \n",
    "    return sum(h_beta)"
   ]
  },
  {
   "cell_type": "code",
   "execution_count": 17,
   "id": "02ece4de",
   "metadata": {},
   "outputs": [
    {
     "data": {
      "text/plain": [
       "array([0.5])"
      ]
     },
     "execution_count": 17,
     "metadata": {},
     "output_type": "execute_result"
    }
   ],
   "source": [
    "H(beta_T, 2, 1, 2)"
   ]
  },
  {
   "cell_type": "code",
   "execution_count": 18,
   "id": "413797fe",
   "metadata": {},
   "outputs": [],
   "source": [
    "def G_subgradient_j(X, y, beta_T, tau, lambda_value, j):\n",
    "    # 행렬 차수\n",
    "    n, p = X.shape\n",
    "    \n",
    "    # 벡터 계산\n",
    "    X_beta = X @ beta_T   # (n*p) * (p*1)  => (n*1)\n",
    "    \n",
    "    # 잔차\n",
    "    res = y - X_beta     # (n*1) - (n*1)\n",
    "    \n",
    "    # subgradient\n",
    "    loss_subgradient = [-tau * X[i, j] if res[i] > 0 \n",
    "                        else (1-tau) * X[i, j] if res[i] < 0 \n",
    "                        else -1*random.uniform(tau-1, tau) * X[i, j] \n",
    "                        for i in range(n)]\n",
    "    \n",
    "    first_term = sum(loss_subgradient)/n\n",
    "    \n",
    "    \n",
    "    second_term = [lambda_value if beta_T[j] > 0 \n",
    "                    else -1 * lambda_value if beta_T[j] < 0\n",
    "                    else random.uniform(-1,1) * lambda_value]\n",
    "    \n",
    "    return first_term + second_term"
   ]
  },
  {
   "cell_type": "code",
   "execution_count": 19,
   "id": "7d8c1750",
   "metadata": {},
   "outputs": [
    {
     "data": {
      "text/plain": [
       "array([1.97774423])"
      ]
     },
     "execution_count": 19,
     "metadata": {},
     "output_type": "execute_result"
    }
   ],
   "source": [
    "G_subgradient_j(X, y, beta_T, 0.8, 2, 1)"
   ]
  },
  {
   "cell_type": "code",
   "execution_count": 20,
   "id": "ab5ad6bc",
   "metadata": {},
   "outputs": [],
   "source": [
    "def H_subgradient_j(beta_T, lambda_value, gamma_value, a_value, j):\n",
    "    # subgradient\n",
    "    beta_subgradient = [beta_T[j]/a_value \n",
    "                        if 0 <= abs(beta_T[j]) < a_value * (lambda_value - gamma_value)\n",
    "                        else (lambda_value - gamma_value) * beta_T[j] / abs(beta_T[j])]\n",
    "    \n",
    "    return beta_subgradient"
   ]
  },
  {
   "cell_type": "code",
   "execution_count": 21,
   "id": "9f41111e",
   "metadata": {},
   "outputs": [
    {
     "data": {
      "text/plain": [
       "[array([0.5])]"
      ]
     },
     "execution_count": 21,
     "metadata": {},
     "output_type": "execute_result"
    }
   ],
   "source": [
    "H_subgradient_j(beta_T, 2, 1, 2, 1)"
   ]
  },
  {
   "cell_type": "code",
   "execution_count": null,
   "id": "2851382c",
   "metadata": {},
   "outputs": [],
   "source": []
  },
  {
   "cell_type": "code",
   "execution_count": 23,
   "id": "dad9803b",
   "metadata": {},
   "outputs": [],
   "source": [
    "def coordinate_descent(X, y, beta_T, tau, lambda_value, gamma_value, a_value, alpha = 0.03, num_iters = 10):\n",
    "    # 행렬 차수\n",
    "    n, p = X.shape\n",
    "    \n",
    "    loss_history = np.zeros(shape = (num_iters, 1))\n",
    "    beta_history = np.zeros(shape = (num_iters, p))\n",
    "    \n",
    "    # coordinate_descent \n",
    "    for i in range(num_iters):\n",
    "        for j in range(p):\n",
    "            subgradient = G_subgradient_j(X, y, beta_T, tau, lambda_value, j) + H_subgradient_j(beta_T, lambda_value, gamma_value, a_value, j)\n",
    "            \n",
    "            beta_T[j] = beta_T[j] - alpha*subgradient\n",
    "            \n",
    "            # saving values\n",
    "            beta_history[i, j] = beta_T[j]\n",
    "            loss_history[i] = G(X, y, beta_T, tau, lambda_value) + H(beta_T, lambda_value, gamma_value, a_value)\n",
    "            \n",
    "    return beta_T, beta_history, loss_history  "
   ]
  },
  {
   "cell_type": "code",
   "execution_count": 34,
   "id": "ea1bc775",
   "metadata": {},
   "outputs": [],
   "source": [
    "beta_T= np.ones((p, 1))"
   ]
  },
  {
   "cell_type": "code",
   "execution_count": 35,
   "id": "aff3001b",
   "metadata": {},
   "outputs": [],
   "source": [
    "beta_T, beta_history, loss_history = coordinate_descent(X, y, beta_T, 0.75, 2, 1, 1, 0.03, 20)"
   ]
  },
  {
   "cell_type": "code",
   "execution_count": 36,
   "id": "2fe1c3fc",
   "metadata": {},
   "outputs": [
    {
     "data": {
      "text/plain": [
       "array([[ 0.90275532,  0.91066767],\n",
       "       [ 0.80842798,  0.82419003],\n",
       "       [ 0.71769642,  0.74111829],\n",
       "       [ 0.62981446,  0.66128823],\n",
       "       [ 0.54546258,  0.58465491],\n",
       "       [ 0.46479019,  0.51241493],\n",
       "       [ 0.38717627,  0.44304079],\n",
       "       [ 0.31265673,  0.37688719],\n",
       "       [ 0.24152171,  0.31387938],\n",
       "       [ 0.17392499,  0.25361716],\n",
       "       [ 0.10963278,  0.19561434],\n",
       "       [ 0.04790762,  0.13967818],\n",
       "       [-0.01119982,  0.08554562],\n",
       "       [ 0.0526149 ,  0.03299513],\n",
       "       [-0.0065061 , -0.01783969],\n",
       "       [ 0.05704014,  0.05285778],\n",
       "       [-0.00234127,  0.00142707],\n",
       "       [ 0.06082471, -0.04849267],\n",
       "       [ 0.00171274,  0.0232884 ],\n",
       "       [-0.0552429 , -0.02709869]])"
      ]
     },
     "execution_count": 36,
     "metadata": {},
     "output_type": "execute_result"
    }
   ],
   "source": [
    "beta_history"
   ]
  },
  {
   "cell_type": "code",
   "execution_count": 38,
   "id": "61ebd3a1",
   "metadata": {},
   "outputs": [
    {
     "data": {
      "text/plain": [
       "0.9027553191489361"
      ]
     },
     "execution_count": 38,
     "metadata": {},
     "output_type": "execute_result"
    }
   ],
   "source": [
    "beta_history[0,0]"
   ]
  },
  {
   "cell_type": "code",
   "execution_count": 39,
   "id": "7370c6b4",
   "metadata": {},
   "outputs": [
    {
     "data": {
      "text/plain": [
       "20"
      ]
     },
     "execution_count": 39,
     "metadata": {},
     "output_type": "execute_result"
    }
   ],
   "source": [
    "len(beta_history)"
   ]
  },
  {
   "cell_type": "code",
   "execution_count": 43,
   "id": "418b5238",
   "metadata": {},
   "outputs": [],
   "source": []
  },
  {
   "cell_type": "code",
   "execution_count": 3,
   "id": "2b286b38",
   "metadata": {},
   "outputs": [],
   "source": [
    "x = np.linspace(0,1,40)\n",
    "noise = 1*np.random.uniform(  size = 40)\n",
    "y = np.sin(x * 1.5 * np.pi ) \n",
    "y_noise = (y + noise).reshape(-1,1)\n",
    "y_noise = y_noise - y_noise.mean()\n",
    "X = np.vstack((2*x,x**2)).T\n",
    "initial_theta = np.array([4,-4.]).reshape(-1,1)"
   ]
  },
  {
   "cell_type": "code",
   "execution_count": 4,
   "id": "0ca860bb",
   "metadata": {},
   "outputs": [],
   "source": [
    "X_og = X\n",
    "y_og = y"
   ]
  },
  {
   "cell_type": "code",
   "execution_count": 5,
   "id": "15a01d5b",
   "metadata": {},
   "outputs": [],
   "source": [
    "#Setup of meshgrid of theta values\n",
    "T0, T1 = np.meshgrid(np.linspace(-2,2,100),np.linspace(-2,2,100))"
   ]
  },
  {
   "cell_type": "code",
   "execution_count": 6,
   "id": "f66f2ef0",
   "metadata": {},
   "outputs": [
    {
     "data": {
      "text/plain": [
       "(100, 100)"
      ]
     },
     "execution_count": 6,
     "metadata": {},
     "output_type": "execute_result"
    }
   ],
   "source": [
    "T1.shape"
   ]
  },
  {
   "cell_type": "code",
   "execution_count": 12,
   "id": "234041db",
   "metadata": {},
   "outputs": [
    {
     "ename": "NameError",
     "evalue": "name 'G' is not defined",
     "output_type": "error",
     "traceback": [
      "\u001b[1;31m---------------------------------------------------------------------------\u001b[0m",
      "\u001b[1;31mNameError\u001b[0m                                 Traceback (most recent call last)",
      "\u001b[1;32m~\\AppData\\Local\\Temp/ipykernel_10784/73846443.py\u001b[0m in \u001b[0;36m<module>\u001b[1;34m\u001b[0m\n\u001b[0;32m      5\u001b[0m \u001b[1;31m## 계싼 문제 잇듬\u001b[0m\u001b[1;33m\u001b[0m\u001b[1;33m\u001b[0m\u001b[0m\n\u001b[0;32m      6\u001b[0m \u001b[1;31m#  beta 값에 따른 loss function 나타냄\u001b[0m\u001b[1;33m\u001b[0m\u001b[1;33m\u001b[0m\u001b[0m\n\u001b[1;32m----> 7\u001b[1;33m zs = np.array([G(X_og, y_og, beta_T, tau, lambda_value) \n\u001b[0m\u001b[0;32m      8\u001b[0m                 for t0, t1 in zip(np.ravel(T0), np.ravel(T1))])\n",
      "\u001b[1;32m~\\AppData\\Local\\Temp/ipykernel_10784/73846443.py\u001b[0m in \u001b[0;36m<listcomp>\u001b[1;34m(.0)\u001b[0m\n\u001b[0;32m      5\u001b[0m \u001b[1;31m## 계싼 문제 잇듬\u001b[0m\u001b[1;33m\u001b[0m\u001b[1;33m\u001b[0m\u001b[0m\n\u001b[0;32m      6\u001b[0m \u001b[1;31m#  beta 값에 따른 loss function 나타냄\u001b[0m\u001b[1;33m\u001b[0m\u001b[1;33m\u001b[0m\u001b[0m\n\u001b[1;32m----> 7\u001b[1;33m zs = np.array([G(X_og, y_og, beta_T, tau, lambda_value) \n\u001b[0m\u001b[0;32m      8\u001b[0m                 for t0, t1 in zip(np.ravel(T0), np.ravel(T1))])\n",
      "\u001b[1;31mNameError\u001b[0m: name 'G' is not defined"
     ]
    }
   ],
   "source": [
    "tau = 0.75\n",
    "lambda_value = 2\n",
    "gamma_value = 1\n",
    "a_value = 1\n",
    "## 계싼 문제 잇듬\n",
    "#  beta 값에 따른 loss function 나타냄 \n",
    "zs = np.array([G(X_og, y_og, beta_T, tau, lambda_value) \n",
    "                for t0, t1 in zip(np.ravel(T0), np.ravel(T1))])"
   ]
  },
  {
   "cell_type": "code",
   "execution_count": 11,
   "id": "b6dfc689",
   "metadata": {},
   "outputs": [
    {
     "ename": "NameError",
     "evalue": "name 'zs' is not defined",
     "output_type": "error",
     "traceback": [
      "\u001b[1;31m---------------------------------------------------------------------------\u001b[0m",
      "\u001b[1;31mNameError\u001b[0m                                 Traceback (most recent call last)",
      "\u001b[1;32m~\\AppData\\Local\\Temp/ipykernel_10784/3161092867.py\u001b[0m in \u001b[0;36m<module>\u001b[1;34m\u001b[0m\n\u001b[1;32m----> 1\u001b[1;33m \u001b[0mZ\u001b[0m \u001b[1;33m=\u001b[0m \u001b[0mzs\u001b[0m\u001b[1;33m.\u001b[0m\u001b[0mreshape\u001b[0m\u001b[1;33m(\u001b[0m\u001b[0mT0\u001b[0m\u001b[1;33m.\u001b[0m\u001b[0mshape\u001b[0m\u001b[1;33m)\u001b[0m\u001b[1;33m\u001b[0m\u001b[1;33m\u001b[0m\u001b[0m\n\u001b[0m\u001b[0;32m      2\u001b[0m \u001b[0mZ\u001b[0m\u001b[1;33m\u001b[0m\u001b[1;33m\u001b[0m\u001b[0m\n",
      "\u001b[1;31mNameError\u001b[0m: name 'zs' is not defined"
     ]
    }
   ],
   "source": [
    "Z = zs.reshape(T0.shape)\n",
    "Z"
   ]
  },
  {
   "cell_type": "code",
   "execution_count": 115,
   "id": "9b5cda85",
   "metadata": {},
   "outputs": [],
   "source": [
    "beta_0 = [beta_history[i, 0] for i in range(len(beta_history))]\n",
    "beta_1 = [beta_history[i, 1] for i in range(len(beta_history))]"
   ]
  },
  {
   "cell_type": "code",
   "execution_count": 9,
   "id": "73976a52",
   "metadata": {},
   "outputs": [
    {
     "ename": "NameError",
     "evalue": "name 'beta_0' is not defined",
     "output_type": "error",
     "traceback": [
      "\u001b[1;31m---------------------------------------------------------------------------\u001b[0m",
      "\u001b[1;31mNameError\u001b[0m                                 Traceback (most recent call last)",
      "\u001b[1;32m~\\AppData\\Local\\Temp/ipykernel_10784/2576819414.py\u001b[0m in \u001b[0;36m<module>\u001b[1;34m\u001b[0m\n\u001b[0;32m      1\u001b[0m \u001b[1;31m#Angles needed for quiver plot\u001b[0m\u001b[1;33m\u001b[0m\u001b[1;33m\u001b[0m\u001b[0m\n\u001b[1;32m----> 2\u001b[1;33m \u001b[0manglesx\u001b[0m \u001b[1;33m=\u001b[0m \u001b[0mnp\u001b[0m\u001b[1;33m.\u001b[0m\u001b[0marray\u001b[0m\u001b[1;33m(\u001b[0m\u001b[0mbeta_0\u001b[0m\u001b[1;33m)\u001b[0m\u001b[1;33m[\u001b[0m\u001b[1;36m1\u001b[0m\u001b[1;33m:\u001b[0m\u001b[1;33m]\u001b[0m \u001b[1;33m-\u001b[0m \u001b[0mnp\u001b[0m\u001b[1;33m.\u001b[0m\u001b[0marray\u001b[0m\u001b[1;33m(\u001b[0m\u001b[0mbeta_0\u001b[0m\u001b[1;33m)\u001b[0m\u001b[1;33m[\u001b[0m\u001b[1;33m:\u001b[0m\u001b[1;33m-\u001b[0m\u001b[1;36m1\u001b[0m\u001b[1;33m]\u001b[0m\u001b[1;33m\u001b[0m\u001b[1;33m\u001b[0m\u001b[0m\n\u001b[0m\u001b[0;32m      3\u001b[0m \u001b[0manglesy\u001b[0m \u001b[1;33m=\u001b[0m \u001b[0mnp\u001b[0m\u001b[1;33m.\u001b[0m\u001b[0marray\u001b[0m\u001b[1;33m(\u001b[0m\u001b[0mbeta_1\u001b[0m\u001b[1;33m)\u001b[0m\u001b[1;33m[\u001b[0m\u001b[1;36m1\u001b[0m\u001b[1;33m:\u001b[0m\u001b[1;33m]\u001b[0m \u001b[1;33m-\u001b[0m \u001b[0mnp\u001b[0m\u001b[1;33m.\u001b[0m\u001b[0marray\u001b[0m\u001b[1;33m(\u001b[0m\u001b[0mbeta_1\u001b[0m\u001b[1;33m)\u001b[0m\u001b[1;33m[\u001b[0m\u001b[1;33m:\u001b[0m\u001b[1;33m-\u001b[0m\u001b[1;36m1\u001b[0m\u001b[1;33m]\u001b[0m\u001b[1;33m\u001b[0m\u001b[1;33m\u001b[0m\u001b[0m\n",
      "\u001b[1;31mNameError\u001b[0m: name 'beta_0' is not defined"
     ]
    }
   ],
   "source": [
    "#Angles needed for quiver plot\n",
    "anglesx = np.array(beta_0)[1:] - np.array(beta_0)[:-1]\n",
    "anglesy = np.array(beta_1)[1:] - np.array(beta_1)[:-1]"
   ]
  },
  {
   "cell_type": "code",
   "execution_count": 10,
   "id": "0c1f080e",
   "metadata": {},
   "outputs": [
    {
     "ename": "NameError",
     "evalue": "name 'Z' is not defined",
     "output_type": "error",
     "traceback": [
      "\u001b[1;31m---------------------------------------------------------------------------\u001b[0m",
      "\u001b[1;31mNameError\u001b[0m                                 Traceback (most recent call last)",
      "\u001b[1;32m~\\AppData\\Local\\Temp/ipykernel_10784/2580790914.py\u001b[0m in \u001b[0;36m<module>\u001b[1;34m\u001b[0m\n\u001b[0;32m      6\u001b[0m \u001b[1;31m#Contour plot\u001b[0m\u001b[1;33m\u001b[0m\u001b[1;33m\u001b[0m\u001b[0m\n\u001b[0;32m      7\u001b[0m \u001b[0max\u001b[0m \u001b[1;33m=\u001b[0m \u001b[0mfig\u001b[0m\u001b[1;33m.\u001b[0m\u001b[0madd_subplot\u001b[0m\u001b[1;33m(\u001b[0m\u001b[1;36m1\u001b[0m\u001b[1;33m,\u001b[0m \u001b[1;36m2\u001b[0m\u001b[1;33m,\u001b[0m \u001b[1;36m2\u001b[0m\u001b[1;33m)\u001b[0m\u001b[1;33m\u001b[0m\u001b[1;33m\u001b[0m\u001b[0m\n\u001b[1;32m----> 8\u001b[1;33m \u001b[0max\u001b[0m\u001b[1;33m.\u001b[0m\u001b[0mcontour\u001b[0m\u001b[1;33m(\u001b[0m\u001b[0mT0\u001b[0m\u001b[1;33m,\u001b[0m \u001b[0mT1\u001b[0m\u001b[1;33m,\u001b[0m \u001b[0mZ\u001b[0m\u001b[1;33m,\u001b[0m \u001b[1;36m70\u001b[0m\u001b[1;33m,\u001b[0m \u001b[0mcmap\u001b[0m \u001b[1;33m=\u001b[0m \u001b[1;34m'jet'\u001b[0m\u001b[1;33m)\u001b[0m\u001b[1;33m\u001b[0m\u001b[1;33m\u001b[0m\u001b[0m\n\u001b[0m\u001b[0;32m      9\u001b[0m \u001b[1;31m#ax.quiver(beta_0[:-1], beta_1[:-1], anglesx, anglesy, scale_units = 'xy', angles = 'xy', scale = 1, color = 'r', alpha = .9)\u001b[0m\u001b[1;33m\u001b[0m\u001b[1;33m\u001b[0m\u001b[0m\n\u001b[0;32m     10\u001b[0m \u001b[1;31m#ax.set_xlabel('beta 0')\u001b[0m\u001b[1;33m\u001b[0m\u001b[1;33m\u001b[0m\u001b[0m\n",
      "\u001b[1;31mNameError\u001b[0m: name 'Z' is not defined"
     ]
    },
    {
     "data": {
      "image/png": "[encoded data removed]",
      "text/plain": [
       "<Figure size 1152x576 with 1 Axes>"
      ]
     },
     "metadata": {
      "needs_background": "light"
     },
     "output_type": "display_data"
    }
   ],
   "source": [
    "%matplotlib inline\n",
    "fig = plt.figure(figsize = (16,8))\n",
    "\n",
    "T0, T1 = np.meshgrid(np.linspace(-10,10,100),np.linspace(-10, 10,100))\n",
    "\n",
    "#Contour plot\n",
    "ax = fig.add_subplot(1, 2, 2)\n",
    "ax.contour(T0, T1, Z, 70, cmap = 'jet')\n",
    "#ax.quiver(beta_0[:-1], beta_1[:-1], anglesx, anglesy, scale_units = 'xy', angles = 'xy', scale = 1, color = 'r', alpha = .9)\n",
    "#ax.set_xlabel('beta 0')\n",
    "#ax.set_ylabel('beta 1')\n",
    "#ax.legend()\n",
    "\n",
    "plt.legend()\n",
    "plt.show()"
   ]
  },
  {
   "cell_type": "code",
   "execution_count": null,
   "id": "9b8ad918",
   "metadata": {},
   "outputs": [],
   "source": []
  },
  {
   "cell_type": "code",
   "execution_count": null,
   "id": "0d324656",
   "metadata": {},
   "outputs": [],
   "source": []
  },
  {
   "cell_type": "code",
   "execution_count": 13,
   "id": "7664e8c9",
   "metadata": {},
   "outputs": [],
   "source": [
    "def costfunction(X,y,theta):\n",
    "    #Initialisation of useful values \n",
    "    m = np.size(y)\n",
    "    \n",
    "    #Cost function in vectorized form\n",
    "    h = X @ theta\n",
    "    J = float((1./(2*m)) * (h - y).T @ (h - y));    \n",
    "    return J;\n",
    "\n",
    "\n",
    "def coordinate_descent(theta,X,y,alpha = .03, num_iters=20):\n",
    "    '''Coordinate gradient descent for linear regression'''\n",
    "    #Initialisation of useful values \n",
    "    m,n = X.shape\n",
    "    J_history = []\n",
    "    theta_0_hist, theta_1_hist = [], [] #For plotting afterwards\n",
    "    \n",
    "    \n",
    "    for i in range(num_iters):\n",
    "        \n",
    "        for j in range(n):\n",
    "            #Coordinate descent in vectorized form\n",
    "            h = X @ theta \n",
    "            gradient =  (X[:,j] @ (h-y))\n",
    "            theta[j] = theta[j] - alpha * gradient\n",
    "            \n",
    "            #Saving values for plots\n",
    "            J_history.append(costfunction(X,y,theta))\n",
    "            theta_0_hist.append(theta[0,0])\n",
    "            theta_1_hist.append(theta[1,0])\n",
    "                       \n",
    "    return theta ,J_history, theta_0_hist, theta_1_hist\n",
    "\n",
    "def coordinate_descent_norm(theta,X,y,alpha = .03, num_iters=100):\n",
    "    '''Coordinate gradient descent for linear regression - for normalized data'''\n",
    "    #Initialisation of useful values \n",
    "    m,n = X.shape\n",
    "    X = X / (np.linalg.norm(X,axis = 0)) #normalizing X\n",
    "    J_history = []\n",
    "    theta_0_hist, theta_1_hist = [], [] #For plotting afterwards\n",
    "    \n",
    "    \n",
    "    for i in range(num_iters):\n",
    "        \n",
    "        for j in range(n):\n",
    "            #Coordinate descent in vectorized form\n",
    "            h = (X[:,0:j] @ theta[0:j]) + (X[:,j+1:] @ theta[j+1:])\n",
    "            theta[j] =  (X[:,j] @ (y - h))\n",
    "            \n",
    "            #Saving values for plots\n",
    "            J_history.append(costfunction(X,y,theta))\n",
    "            theta_0_hist.append(theta[0,0])\n",
    "            theta_1_hist.append(theta[1,0])\n",
    "                       \n",
    "    return theta ,J_history, theta_0_hist, theta_1_hist"
   ]
  },
  {
   "cell_type": "code",
   "execution_count": 14,
   "id": "0d6db233",
   "metadata": {},
   "outputs": [],
   "source": [
    "#Creating the dataset (as previously)\n",
    "x = np.linspace(0,1,40)\n",
    "noise = 1*np.random.uniform(  size = 40)\n",
    "y = np.sin(x * 1.5 * np.pi ) \n",
    "y_noise = (y + noise).reshape(-1,1)\n",
    "y_noise = y_noise - y_noise.mean()\n",
    "X = np.vstack((2*x,x**2)).T\n",
    "initial_theta = np.array([4,-4.]).reshape(-1,1)\n",
    "\n",
    "#Setup of meshgrid of theta values\n",
    "T0, T1 = np.meshgrid(np.linspace(0,3,100),np.linspace(-5.5,-3,100))\n",
    "\n",
    "#Computing the cost function for each theta combination\n",
    "zs = np.array(  [costfunction(X, y_noise.reshape(-1,1),np.array([t0,t1]).reshape(-1,1)) \n",
    "                     for t0, t1 in zip(np.ravel(T0), np.ravel(T1)) ] )\n",
    "#Reshaping the cost values    \n",
    "Z = zs.reshape(T0.shape)"
   ]
  },
  {
   "cell_type": "code",
   "execution_count": 18,
   "id": "d59c45bc",
   "metadata": {},
   "outputs": [],
   "source": [
    "#Computing the gradient descent\n",
    "theta_result_c,J_history_c, theta_0_c, theta_1_c = coordinate_descent(initial_theta,X,y_noise, alpha = .009) \n",
    "\n",
    "#Angles needed for quiver plot\n",
    "anglesx = np.array(theta_0_c)[1:] - np.array(theta_0_c)[:-1]\n",
    "anglesy = np.array(theta_1_c)[1:] - np.array(theta_1_c)[:-1]"
   ]
  },
  {
   "cell_type": "code",
   "execution_count": 33,
   "id": "560bf6ea",
   "metadata": {},
   "outputs": [
    {
     "data": {
      "text/plain": [
       "40"
      ]
     },
     "execution_count": 33,
     "metadata": {},
     "output_type": "execute_result"
    }
   ],
   "source": [
    "len(J_history_c)"
   ]
  },
  {
   "cell_type": "code",
   "execution_count": null,
   "id": "406264d5",
   "metadata": {},
   "outputs": [],
   "source": [
    "%matplotlib inline\n",
    "fig = plt.figure(figsize = (16,8))\n",
    "\n",
    "#Surface plot\n",
    "ax = fig.add_subplot(1, 2, 1, projection='3d')\n",
    "ax.plot_surface(T0, T1, Z, rstride = 5, cstride = 5, cmap = 'jet', alpha=0.5)\n",
    "ax.plot(theta_0_c,theta_1_c,J_history_c, marker = '*', color = 'r', alpha = .4, label = 'Gradient descent')\n",
    "\n",
    "ax.set_xlabel('theta 0')\n",
    "ax.set_ylabel('theta 1')\n",
    "ax.set_zlabel('Cost function')\n",
    "ax.set_title('Gradient descent: Root at {}'.format(theta_result_c.ravel()))\n",
    "ax.view_init(45, -75)\n",
    "ax.legend()\n",
    "\n",
    "\n",
    "#Contour plot\n",
    "ax = fig.add_subplot(1, 2, 2)\n",
    "ax.contour(T0, T1, Z, 70, cmap = 'jet')\n",
    "ax.quiver(theta_0_c[:-1], theta_1_c[:-1], anglesx, anglesy, scale_units = 'xy', angles = 'xy', scale = 1, color = 'r', alpha = .9)\n",
    "ax.set_xlabel('theta 1')\n",
    "ax.set_ylabel('theta 2')\n",
    "ax.set_title('Gradient descent: Root at {}'.format(theta_result_c.ravel()))\n",
    "ax.legend()\n",
    "\n",
    "plt.legend()\n",
    "plt.show()"
   ]
  },
  {
   "cell_type": "code",
   "execution_count": null,
   "id": "0679cee5",
   "metadata": {},
   "outputs": [],
   "source": []
  },
  {
   "cell_type": "code",
   "execution_count": null,
   "id": "b5a2ec21",
   "metadata": {},
   "outputs": [],
   "source": []
  },
  {
   "cell_type": "code",
   "execution_count": null,
   "id": "546f9974",
   "metadata": {},
   "outputs": [],
   "source": []
  },
  {
   "cell_type": "code",
   "execution_count": null,
   "id": "e07299fc",
   "metadata": {},
   "outputs": [],
   "source": []
  },
  {
   "cell_type": "code",
   "execution_count": null,
   "id": "6b09a655",
   "metadata": {},
   "outputs": [],
   "source": []
  },
  {
   "cell_type": "code",
   "execution_count": null,
   "id": "0092ae8b",
   "metadata": {},
   "outputs": [],
   "source": []
  },
  {
   "cell_type": "code",
   "execution_count": null,
   "id": "31f2056e",
   "metadata": {},
   "outputs": [],
   "source": []
  },
  {
   "cell_type": "code",
   "execution_count": null,
   "id": "c7dc0d4d",
   "metadata": {},
   "outputs": [],
   "source": []
  },
  {
   "cell_type": "code",
   "execution_count": null,
   "id": "f9ece031",
   "metadata": {},
   "outputs": [],
   "source": []
  },
  {
   "cell_type": "code",
   "execution_count": null,
   "id": "5a762f1c",
   "metadata": {},
   "outputs": [],
   "source": []
  },
  {
   "cell_type": "code",
   "execution_count": null,
   "id": "df03d9ad",
   "metadata": {},
   "outputs": [],
   "source": []
  },
  {
   "cell_type": "code",
   "execution_count": null,
   "id": "6f62ae01",
   "metadata": {},
   "outputs": [],
   "source": []
  },
  {
   "cell_type": "code",
   "execution_count": null,
   "id": "980f8fad",
   "metadata": {},
   "outputs": [],
   "source": []
  },
  {
   "cell_type": "code",
   "execution_count": null,
   "id": "663aa221",
   "metadata": {},
   "outputs": [],
   "source": []
  },
  {
   "cell_type": "code",
   "execution_count": null,
   "id": "4e6ef279",
   "metadata": {},
   "outputs": [],
   "source": []
  },
  {
   "cell_type": "code",
   "execution_count": null,
   "id": "d589774a",
   "metadata": {},
   "outputs": [],
   "source": []
  },
  {
   "cell_type": "code",
   "execution_count": null,
   "id": "38ee5984",
   "metadata": {},
   "outputs": [],
   "source": []
  },
  {
   "cell_type": "code",
   "execution_count": null,
   "id": "f6a5bc93",
   "metadata": {},
   "outputs": [],
   "source": []
  },
  {
   "cell_type": "markdown",
   "id": "1b4305f3",
   "metadata": {},
   "source": [
    "### coordinate descent - implementation for linear regression"
   ]
  },
  {
   "cell_type": "markdown",
   "id": "84366312",
   "metadata": {},
   "source": [
    "* at each iteration, the algorithm determines a coordinate, then minimizes over the corresponding hyperplane while fixing all other coordinates."
   ]
  },
  {
   "cell_type": "markdown",
   "id": "2413786a",
   "metadata": {},
   "source": []
  }
 ],
 "metadata": {
  "kernelspec": {
   "display_name": "Python 3 (ipykernel)",
   "language": "python",
   "name": "python3"
  },
  "language_info": {
   "codemirror_mode": {
    "name": "ipython",
    "version": 3
   },
   "file_extension": ".py",
   "mimetype": "text/x-python",
   "name": "python",
   "nbconvert_exporter": "python",
   "pygments_lexer": "ipython3",
   "version": "3.9.7"
  }
 },
 "nbformat": 4,
 "nbformat_minor": 5
}

{
 "cells": [
  {
   "cell_type": "code",
   "execution_count": 1,
   "id": "6e0a965a",
   "metadata": {},
   "outputs": [],
   "source": [
    "%matplotlib inline\n",
    "\n",
    "import numpy as np\n",
    "import pandas as pd\n",
    "import statsmodels.api as sm\n",
    "import statsmodels.formula.api as smf\n",
    "import matplotlib.pyplot as plt\n",
    "from __future__ import division\n",
    "import random\n",
    "import itertools\n",
    "import math as math\n",
    "import sys\n",
    "import time\n",
    "from pprint import pprint\n",
    "from sklearn import model_selection\n",
    "from sklearn import metrics\n",
    "from sklearn.preprocessing import StandardScaler"
   ]
  },
  {
   "cell_type": "markdown",
   "id": "f89d9f13",
   "metadata": {},
   "source": [
    "### 보스턴 주택 가격 데이터셋(toy data)"
   ]
  },
  {
   "cell_type": "markdown",
   "id": "64daa145",
   "metadata": {},
   "source": [
    "#### 데이터 설명 (14 columns)"
   ]
  },
  {
   "cell_type": "markdown",
   "id": "94a1afe5",
   "metadata": {},
   "source": [
    "* CRIM : 자치시(town)별 1인당 범죄율\n",
    "* ZN : 25,000 평방피트를 초과하는 거주지역의 비율\n",
    "* INDUS : 비소매상업지역이 점유하고 있는 토지의 비율\n",
    "* CHAS : 찰스강에 대한 더미변수(강의 겨예에 위치한 경우는 1, 아니면 0)\n",
    "* NOX : 10ppm 당 농축 일산화질소\n",
    "* RM : 주택 1가구당 평균 방의 개수\n",
    "* AGE : 1940년 이전에 건축된 소유주택의 비율\n",
    "* DIS : 5개의 보스턴 직업센터까지의 접근성 지수\n",
    "* RAD : 방사형 도로까지의 접근성 지수\n",
    "* TAX : 10,000 달러 당 재산세율\n",
    "* PTRATIO : 자치시(town)별 학생/교사 비율\n",
    "* B : 1000(Bk-0.63)^2, 여기서 Bk는 자치시별 흑인의 비율을 말함\n",
    "* LSTAT : 모집단의 하위계층의 비율(%)\n",
    "* MEDV : 본인 소유의 주택가격(중앙값) (단위: $1,000)"
   ]
  },
  {
   "cell_type": "code",
   "execution_count": 17,
   "id": "47232d7d",
   "metadata": {},
   "outputs": [],
   "source": [
    "from sklearn.datasets import load_boston\n",
    "boston = load_boston()"
   ]
  },
  {
   "cell_type": "code",
   "execution_count": 18,
   "id": "b299b642",
   "metadata": {},
   "outputs": [],
   "source": [
    "df = pd.DataFrame(boston.data, columns= boston.feature_names)\n",
    "df['target']= boston.target"
   ]
  },
  {
   "cell_type": "code",
   "execution_count": 31,
   "id": "c5656a7a",
   "metadata": {},
   "outputs": [
    {
     "data": {
      "text/html": [
       "<div>\n",
       "<style scoped>\n",
       "    .dataframe tbody tr th:only-of-type {\n",
       "        vertical-align: middle;\n",
       "    }\n",
       "\n",
       "    .dataframe tbody tr th {\n",
       "        vertical-align: top;\n",
       "    }\n",
       "\n",
       "    .dataframe thead th {\n",
       "        text-align: right;\n",
       "    }\n",
       "</style>\n",
       "<table border=\"1\" class=\"dataframe\">\n",
       "  <thead>\n",
       "    <tr style=\"text-align: right;\">\n",
       "      <th></th>\n",
       "      <th>CRIM</th>\n",
       "      <th>ZN</th>\n",
       "      <th>INDUS</th>\n",
       "      <th>CHAS</th>\n",
       "      <th>NOX</th>\n",
       "      <th>RM</th>\n",
       "      <th>AGE</th>\n",
       "      <th>DIS</th>\n",
       "      <th>RAD</th>\n",
       "      <th>TAX</th>\n",
       "      <th>PTRATIO</th>\n",
       "      <th>B</th>\n",
       "      <th>LSTAT</th>\n",
       "      <th>target</th>\n",
       "    </tr>\n",
       "  </thead>\n",
       "  <tbody>\n",
       "    <tr>\n",
       "      <th>0</th>\n",
       "      <td>0.00632</td>\n",
       "      <td>18.0</td>\n",
       "      <td>2.31</td>\n",
       "      <td>0.0</td>\n",
       "      <td>0.538</td>\n",
       "      <td>6.575</td>\n",
       "      <td>65.2</td>\n",
       "      <td>4.0900</td>\n",
       "      <td>1.0</td>\n",
       "      <td>296.0</td>\n",
       "      <td>15.3</td>\n",
       "      <td>396.90</td>\n",
       "      <td>4.98</td>\n",
       "      <td>24.0</td>\n",
       "    </tr>\n",
       "    <tr>\n",
       "      <th>1</th>\n",
       "      <td>0.02731</td>\n",
       "      <td>0.0</td>\n",
       "      <td>7.07</td>\n",
       "      <td>0.0</td>\n",
       "      <td>0.469</td>\n",
       "      <td>6.421</td>\n",
       "      <td>78.9</td>\n",
       "      <td>4.9671</td>\n",
       "      <td>2.0</td>\n",
       "      <td>242.0</td>\n",
       "      <td>17.8</td>\n",
       "      <td>396.90</td>\n",
       "      <td>9.14</td>\n",
       "      <td>21.6</td>\n",
       "    </tr>\n",
       "    <tr>\n",
       "      <th>2</th>\n",
       "      <td>0.02729</td>\n",
       "      <td>0.0</td>\n",
       "      <td>7.07</td>\n",
       "      <td>0.0</td>\n",
       "      <td>0.469</td>\n",
       "      <td>7.185</td>\n",
       "      <td>61.1</td>\n",
       "      <td>4.9671</td>\n",
       "      <td>2.0</td>\n",
       "      <td>242.0</td>\n",
       "      <td>17.8</td>\n",
       "      <td>392.83</td>\n",
       "      <td>4.03</td>\n",
       "      <td>34.7</td>\n",
       "    </tr>\n",
       "    <tr>\n",
       "      <th>3</th>\n",
       "      <td>0.03237</td>\n",
       "      <td>0.0</td>\n",
       "      <td>2.18</td>\n",
       "      <td>0.0</td>\n",
       "      <td>0.458</td>\n",
       "      <td>6.998</td>\n",
       "      <td>45.8</td>\n",
       "      <td>6.0622</td>\n",
       "      <td>3.0</td>\n",
       "      <td>222.0</td>\n",
       "      <td>18.7</td>\n",
       "      <td>394.63</td>\n",
       "      <td>2.94</td>\n",
       "      <td>33.4</td>\n",
       "    </tr>\n",
       "    <tr>\n",
       "      <th>4</th>\n",
       "      <td>0.06905</td>\n",
       "      <td>0.0</td>\n",
       "      <td>2.18</td>\n",
       "      <td>0.0</td>\n",
       "      <td>0.458</td>\n",
       "      <td>7.147</td>\n",
       "      <td>54.2</td>\n",
       "      <td>6.0622</td>\n",
       "      <td>3.0</td>\n",
       "      <td>222.0</td>\n",
       "      <td>18.7</td>\n",
       "      <td>396.90</td>\n",
       "      <td>5.33</td>\n",
       "      <td>36.2</td>\n",
       "    </tr>\n",
       "  </tbody>\n",
       "</table>\n",
       "</div>"
      ],
      "text/plain": [
       "      CRIM    ZN  INDUS  CHAS    NOX     RM   AGE     DIS  RAD    TAX  \\\n",
       "0  0.00632  18.0   2.31   0.0  0.538  6.575  65.2  4.0900  1.0  296.0   \n",
       "1  0.02731   0.0   7.07   0.0  0.469  6.421  78.9  4.9671  2.0  242.0   \n",
       "2  0.02729   0.0   7.07   0.0  0.469  7.185  61.1  4.9671  2.0  242.0   \n",
       "3  0.03237   0.0   2.18   0.0  0.458  6.998  45.8  6.0622  3.0  222.0   \n",
       "4  0.06905   0.0   2.18   0.0  0.458  7.147  54.2  6.0622  3.0  222.0   \n",
       "\n",
       "   PTRATIO       B  LSTAT  target  \n",
       "0     15.3  396.90   4.98    24.0  \n",
       "1     17.8  396.90   9.14    21.6  \n",
       "2     17.8  392.83   4.03    34.7  \n",
       "3     18.7  394.63   2.94    33.4  \n",
       "4     18.7  396.90   5.33    36.2  "
      ]
     },
     "execution_count": 31,
     "metadata": {},
     "output_type": "execute_result"
    }
   ],
   "source": [
    "df.head()"
   ]
  },
  {
   "cell_type": "code",
   "execution_count": 46,
   "id": "d4264b68",
   "metadata": {},
   "outputs": [],
   "source": [
    "y = df['target'].values"
   ]
  },
  {
   "cell_type": "code",
   "execution_count": 43,
   "id": "4fdefa43",
   "metadata": {},
   "outputs": [],
   "source": [
    "X = df.iloc[:, : -1]\n",
    "X = sm.add_constant(X)\n",
    "X = X.values"
   ]
  },
  {
   "cell_type": "code",
   "execution_count": 47,
   "id": "d9425a20",
   "metadata": {},
   "outputs": [
    {
     "name": "stdout",
     "output_type": "stream",
     "text": [
      "(506, 14)\n",
      "(506,)\n"
     ]
    }
   ],
   "source": [
    "print(X.shape)\n",
    "print(y.shape)"
   ]
  },
  {
   "cell_type": "code",
   "execution_count": null,
   "id": "7af6b4f4",
   "metadata": {},
   "outputs": [],
   "source": []
  },
  {
   "cell_type": "markdown",
   "id": "f56df2fb",
   "metadata": {},
   "source": [
    "### statsmodels QuantReg"
   ]
  },
  {
   "cell_type": "code",
   "execution_count": 53,
   "id": "b0fb2f2b",
   "metadata": {},
   "outputs": [
    {
     "name": "stdout",
     "output_type": "stream",
     "text": [
      "                         QuantReg Regression Results                          \n",
      "==============================================================================\n",
      "Dep. Variable:                      y   Pseudo R-squared:               0.5348\n",
      "Model:                       QuantReg   Bandwidth:                       2.015\n",
      "Method:                 Least Squares   Sparsity:                        11.52\n",
      "Date:                Tue, 24 May 2022   No. Observations:                  506\n",
      "Time:                        15:12:28   Df Residuals:                      492\n",
      "                                        Df Model:                           13\n",
      "==============================================================================\n",
      "                 coef    std err          t      P>|t|      [0.025      0.975]\n",
      "------------------------------------------------------------------------------\n",
      "const         21.0912      6.034      3.495      0.001       9.235      32.947\n",
      "x1            -0.0799      0.031     -2.619      0.009      -0.140      -0.020\n",
      "x2             0.0668      0.016      4.296      0.000       0.036       0.097\n",
      "x3            -0.0385      0.066     -0.588      0.557      -0.167       0.090\n",
      "x4             3.0426      0.914      3.328      0.001       1.247       4.839\n",
      "x5           -13.2087      4.127     -3.201      0.001     -21.317      -5.101\n",
      "x6             5.4881      0.585      9.389      0.000       4.340       6.637\n",
      "x7             0.0052      0.016      0.330      0.741      -0.026       0.036\n",
      "x8            -1.2991      0.249     -5.222      0.000      -1.788      -0.810\n",
      "x9             0.2780      0.078      3.565      0.000       0.125       0.431\n",
      "x10           -0.0088      0.004     -2.047      0.041      -0.017      -0.000\n",
      "x11           -1.0255      0.138     -7.439      0.000      -1.296      -0.755\n",
      "x12            0.0148      0.003      5.591      0.000       0.010       0.020\n",
      "x13           -0.3793      0.072     -5.281      0.000      -0.520      -0.238\n",
      "==============================================================================\n",
      "\n",
      "The condition number is large, 1.51e+04. This might indicate that there are\n",
      "strong multicollinearity or other numerical problems.\n"
     ]
    },
    {
     "name": "stderr",
     "output_type": "stream",
     "text": [
      "C:\\Users\\sypar\\anaconda3\\lib\\site-packages\\statsmodels\\regression\\quantile_regression.py:190: IterationLimitWarning: Maximum number of iterations (1000) reached.\n",
      "  warnings.warn(\"Maximum number of iterations (\" + str(max_iter) +\n"
     ]
    }
   ],
   "source": [
    "qr_reg = sm.QuantReg(y, X).fit(q = 0.75)\n",
    "print(qr_reg.summary())"
   ]
  },
  {
   "cell_type": "code",
   "execution_count": 58,
   "id": "2d098741",
   "metadata": {},
   "outputs": [],
   "source": [
    "import statsmodels.regression.quantile_regression as Q_reg"
   ]
  },
  {
   "cell_type": "code",
   "execution_count": 79,
   "id": "d2573ff5",
   "metadata": {},
   "outputs": [],
   "source": [
    "import asgl"
   ]
  },
  {
   "cell_type": "code",
   "execution_count": 83,
   "id": "68029383",
   "metadata": {},
   "outputs": [],
   "source": [
    "asgl_model = asgl.ASGL(model='qr', penalization='lasso', intercept=True, tol=1e-5,\n",
    "                        lambda1=[0.01, 0.1, 1, 10], tau=0.75)"
   ]
  },
  {
   "cell_type": "code",
   "execution_count": 84,
   "id": "7dc38741",
   "metadata": {},
   "outputs": [],
   "source": [
    "asgl_model.fit(X, y)\n",
    "lasso_fit_qr = asgl_model.coef_"
   ]
  },
  {
   "cell_type": "code",
   "execution_count": 85,
   "id": "521e53dc",
   "metadata": {},
   "outputs": [
    {
     "data": {
      "text/plain": [
       "[array([ 9.59703931,  0.        , -0.01814777,  0.06144131, -0.10134443,\n",
       "         0.        ,  0.        ,  5.80151339, -0.00972714, -1.03533483,\n",
       "         0.22034986, -0.01074466, -0.88371527,  0.01657517, -0.30888975]),\n",
       " array([ 4.66297445e+01,  0.00000000e+00, -1.00076957e-02,  7.74206183e-02,\n",
       "        -6.53785695e-03,  0.00000000e+00,  0.00000000e+00,  0.00000000e+00,\n",
       "         3.75619337e-02, -3.99256100e-01,  2.53530034e-01, -1.73314961e-02,\n",
       "        -7.13691289e-01,  8.46071462e-03, -7.44849794e-01]),\n",
       " array([ 2.82340513e+01,  0.00000000e+00,  0.00000000e+00,  6.28655701e-02,\n",
       "         0.00000000e+00,  0.00000000e+00,  0.00000000e+00,  0.00000000e+00,\n",
       "         0.00000000e+00,  0.00000000e+00,  0.00000000e+00, -1.47302175e-02,\n",
       "         0.00000000e+00,  1.52676103e-02, -2.81365314e-01]),\n",
       " array([ 3.26500000e+01,  0.00000000e+00,  0.00000000e+00,  0.00000000e+00,\n",
       "         0.00000000e+00,  0.00000000e+00,  0.00000000e+00,  0.00000000e+00,\n",
       "         0.00000000e+00,  0.00000000e+00,  0.00000000e+00, -1.77927928e-02,\n",
       "         0.00000000e+00,  0.00000000e+00,  0.00000000e+00])]"
      ]
     },
     "execution_count": 85,
     "metadata": {},
     "output_type": "execute_result"
    }
   ],
   "source": [
    "lasso_fit_qr"
   ]
  },
  {
   "cell_type": "code",
   "execution_count": null,
   "id": "d37bad80",
   "metadata": {},
   "outputs": [],
   "source": []
  },
  {
   "cell_type": "code",
   "execution_count": null,
   "id": "b5bec1e8",
   "metadata": {},
   "outputs": [],
   "source": []
  }
 ],
 "metadata": {
  "kernelspec": {
   "display_name": "Python 3 (ipykernel)",
   "language": "python",
   "name": "python3"
  },
  "language_info": {
   "codemirror_mode": {
    "name": "ipython",
    "version": 3
   },
   "file_extension": ".py",
   "mimetype": "text/x-python",
   "name": "python",
   "nbconvert_exporter": "python",
   "pygments_lexer": "ipython3",
   "version": "3.9.7"
  }
 },
 "nbformat": 4,
 "nbformat_minor": 5
}

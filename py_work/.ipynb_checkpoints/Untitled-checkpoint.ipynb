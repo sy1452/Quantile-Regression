{
 "cells": [
  {
   "cell_type": "code",
   "execution_count": 15,
   "id": "675ae0dd",
   "metadata": {},
   "outputs": [],
   "source": [
    "%matplotlib inline\n",
    "\n",
    "import numpy as np\n",
    "import pandas as pd\n",
    "import statsmodels.api as sm\n",
    "import statsmodels.formula.api as smf\n",
    "import matplotlib.pyplot as plt\n",
    "from __future__ import division\n",
    "import random\n",
    "import itertools\n",
    "import math as math\n",
    "import sys\n",
    "import time\n",
    "from pprint import pprint\n",
    "from sklearn import model_selection\n",
    "from sklearn import metrics\n",
    "from sklearn.preprocessing import StandardScaler"
   ]
  },
  {
   "cell_type": "markdown",
   "id": "3706ff34",
   "metadata": {},
   "source": [
    "### 보스턴 주택 가격 데이터셋(toy data)"
   ]
  },
  {
   "cell_type": "markdown",
   "id": "51ea4710",
   "metadata": {},
   "source": [
    "#### 데이터 설명 (14 columns)"
   ]
  },
  {
   "cell_type": "markdown",
   "id": "8587c5a0",
   "metadata": {},
   "source": [
    "* CRIM : 자치시(town)별 1인당 범죄율\n",
    "* ZN : 25,000 평방피트를 초과하는 거주지역의 비율\n",
    "* INDUS : 비소매상업지역이 점유하고 있는 토지의 비율\n",
    "* CHAS : 찰스강에 대한 더미변수(강의 겨예에 위치한 경우는 1, 아니면 0)\n",
    "* NOX : 10ppm 당 농축 일산화질소\n",
    "* RM : 주택 1가구당 평균 방의 개수\n",
    "* AGE : 1940년 이전에 건축된 소유주택의 비율\n",
    "* DIS : 5개의 보스턴 직업센터까지의 접근성 지수\n",
    "* RAD : 방사형 도로까지의 접근성 지수\n",
    "* TAX : 10,000 달러 당 재산세율\n",
    "* PTRATIO : 자치시(town)별 학생/교사 비율\n",
    "* B : 1000(Bk-0.63)^2, 여기서 Bk는 자치시별 흑인의 비율을 말함\n",
    "* LSTAT : 모집단의 하위계층의 비율(%)\n",
    "* MEDV : 본인 소유의 주택가격(중앙값) (단위: $1,000)"
   ]
  },
  {
   "cell_type": "code",
   "execution_count": 14,
   "id": "933046e1",
   "metadata": {},
   "outputs": [
    {
     "name": "stdout",
     "output_type": "stream",
     "text": [
      "(506, 13)\n",
      "(506,)\n"
     ]
    }
   ],
   "source": [
    "from sklearn.datasets import load_boston\n",
    "\n",
    "boston = load_boston()\n",
    "\n",
    "X = boston.data\n",
    "y = boston.target\n",
    "\n",
    "print(X.shape)    # (506, 13)\n",
    "print(y.shape)    # (506, )"
   ]
  },
  {
   "cell_type": "code",
   "execution_count": null,
   "id": "98518c70",
   "metadata": {},
   "outputs": [],
   "source": []
  },
  {
   "cell_type": "markdown",
   "id": "92d8433c",
   "metadata": {},
   "source": [
    "### 데이터 분리"
   ]
  },
  {
   "cell_type": "code",
   "execution_count": 16,
   "id": "76469202",
   "metadata": {},
   "outputs": [],
   "source": [
    "X_train, X_test, y_tarin, y_test = model_selection.train_test_split(X, y, test_size= 0.3)"
   ]
  },
  {
   "cell_type": "code",
   "execution_count": null,
   "id": "5aec878d",
   "metadata": {},
   "outputs": [],
   "source": []
  },
  {
   "cell_type": "markdown",
   "id": "303dff1d",
   "metadata": {},
   "source": [
    "### Stats Model_Quantile Reg"
   ]
  },
  {
   "cell_type": "code",
   "execution_count": null,
   "id": "bcbff7ae",
   "metadata": {},
   "outputs": [],
   "source": []
  },
  {
   "cell_type": "code",
   "execution_count": null,
   "id": "3f07f899",
   "metadata": {},
   "outputs": [],
   "source": []
  },
  {
   "cell_type": "code",
   "execution_count": null,
   "id": "de87ff96",
   "metadata": {},
   "outputs": [],
   "source": []
  },
  {
   "cell_type": "code",
   "execution_count": null,
   "id": "db625967",
   "metadata": {},
   "outputs": [],
   "source": []
  }
 ],
 "metadata": {
  "kernelspec": {
   "display_name": "Python 3 (ipykernel)",
   "language": "python",
   "name": "python3"
  },
  "language_info": {
   "codemirror_mode": {
    "name": "ipython",
    "version": 3
   },
   "file_extension": ".py",
   "mimetype": "text/x-python",
   "name": "python",
   "nbconvert_exporter": "python",
   "pygments_lexer": "ipython3",
   "version": "3.9.7"
  }
 },
 "nbformat": 4,
 "nbformat_minor": 5
}

{
 "cells": [
  {
   "cell_type": "code",
   "execution_count": null,
   "id": "7db3d8e0",
   "metadata": {},
   "outputs": [],
   "source": [
    "# QR vectorized form 찾기\n",
    "# QR costfunction 구현\n",
    "\n",
    "# QR gradient vectorized form 찾기\n",
    "# QR coordinate vectorized form 구현\n",
    "\n",
    "# lasso QR costfunction 구현"
   ]
  },
  {
   "cell_type": "code",
   "execution_count": null,
   "id": "24b21b9f",
   "metadata": {},
   "outputs": [],
   "source": []
  },
  {
   "cell_type": "markdown",
   "id": "0cee4d7b",
   "metadata": {},
   "source": [
    "### Linear Programming_QR"
   ]
  },
  {
   "cell_type": "code",
   "execution_count": 1,
   "id": "9265077b",
   "metadata": {},
   "outputs": [],
   "source": [
    "# library import\n",
    "import pandas as pd\n",
    "import numpy as np\n",
    "import statsmodels.api as sm\n",
    "from scipy.optimize import linprog  # Linear Programming "
   ]
  },
  {
   "cell_type": "code",
   "execution_count": 42,
   "id": "e05926f2",
   "metadata": {},
   "outputs": [],
   "source": [
    "car_df = pd.read_csv(\"Cars93.csv\")"
   ]
  },
  {
   "cell_type": "code",
   "execution_count": 43,
   "id": "f63abe38",
   "metadata": {},
   "outputs": [],
   "source": [
    "car_df = car_df.iloc[:, 1:]"
   ]
  },
  {
   "cell_type": "code",
   "execution_count": 44,
   "id": "aa970636",
   "metadata": {},
   "outputs": [],
   "source": [
    "# price와 origin의 관계 볼 예정\n",
    "# 필요 컬럼 추출 및 origin 더미화\n",
    "car_df = car_df[['Price', 'Origin']]\n",
    "car_df = pd.get_dummies(car_df, columns=['Origin'], drop_first=True)"
   ]
  },
  {
   "cell_type": "code",
   "execution_count": 46,
   "id": "c2ac65bd",
   "metadata": {
    "scrolled": true
   },
   "outputs": [
    {
     "data": {
      "text/plain": [
       "(93,)"
      ]
     },
     "execution_count": 46,
     "metadata": {},
     "output_type": "execute_result"
    }
   ],
   "source": [
    "y = car_df['Price'].values\n",
    "y.shape"
   ]
  },
  {
   "cell_type": "code",
   "execution_count": 47,
   "id": "cf04658b",
   "metadata": {},
   "outputs": [
    {
     "name": "stderr",
     "output_type": "stream",
     "text": [
      "C:\\Users\\sypar\\anaconda3\\lib\\site-packages\\statsmodels\\tsa\\tsatools.py:142: FutureWarning: In a future version of pandas all arguments of concat except for the argument 'objs' will be keyword-only\n",
      "  x = pd.concat(x[::order], 1)\n"
     ]
    },
    {
     "data": {
      "text/plain": [
       "(93, 2)"
      ]
     },
     "execution_count": 47,
     "metadata": {},
     "output_type": "execute_result"
    }
   ],
   "source": [
    "X = car_df['Origin_non-USA']\n",
    "X = sm.add_constant(X)\n",
    "X = X.values\n",
    "X.shape"
   ]
  },
  {
   "cell_type": "code",
   "execution_count": 48,
   "id": "12197736",
   "metadata": {},
   "outputs": [],
   "source": [
    "n = X.shape[0]  # the number of data\n",
    "p = X.shape[1]  # the number of parameters"
   ]
  },
  {
   "cell_type": "code",
   "execution_count": 50,
   "id": "86951460",
   "metadata": {},
   "outputs": [],
   "source": [
    "qs = [0.1, 0.25, 0.5, 0.75, 0.9] #quantiles"
   ]
  },
  {
   "cell_type": "markdown",
   "id": "497bfecf",
   "metadata": {},
   "source": [
    "### QR loss :  argmin(β)∑ρ_θ(y_i - x_i*β)\n",
    "### ρ_θ = θ[y]+ + (1-θ)[-y]+\n",
    "### [y]+ = max{0, y}\n",
    "### y = (y1, y2, .., yn) 일 때, s1 = [y-Xβ]+, s2 = [Xβ-y]+\n",
    "### y-Xβ = s1 - s2\n",
    "### β = [β]+ - [-β]+"
   ]
  },
  {
   "cell_type": "markdown",
   "id": "acd89d38",
   "metadata": {},
   "source": [
    "### argmin(β){θ*1^t*s1 + (1-θ)*1^t*s2 | y = Xβ+s1-s2}\n",
    "### A = [X, -X, I, -I]\n",
    "### ψ = ([β]^t+, [-β]^t+, s1^t, s2^t)^t\n",
    "### c = (0p^t, 0p^t, θ*1n^t, (1-θ)*1^t )^t"
   ]
  },
  {
   "cell_type": "markdown",
   "id": "08260521",
   "metadata": {},
   "source": [
    "### minimize(β){c^tψ }\n",
    "### subject to Aψ  = y, ψ >=0"
   ]
  },
  {
   "cell_type": "code",
   "execution_count": 52,
   "id": "e2351c10",
   "metadata": {},
   "outputs": [
    {
     "name": "stdout",
     "output_type": "stream",
     "text": [
      "q : 0.1, intercept : 11.1, slope : -2.5\n",
      "q : 0.25, intercept : 13.5, slope : -1.9\n",
      "q : 0.5, intercept : 16.3, slope : 2.8\n",
      "q : 0.75, intercept : 20.7, slope : 6.0\n",
      "q : 0.9, intercept : 34.3, slope : -0.4\n"
     ]
    }
   ],
   "source": [
    "## ψ 구하기\n",
    "for q in qs:\n",
    "    A_eq = np.hstack([X, -X, np.identity(n), -np.identity(n)]) #A\n",
    "    b_eq = y \n",
    "    c = np.array([0]*(2*p) + [q]*n + [1-q]*n) #c\n",
    "    res = linprog(c, A_eq=A_eq, b_eq=b_eq,method='highs')\n",
    "    \n",
    "    x_plus = res.x[:p]\n",
    "    x_minus = res.x[p:2*p]\n",
    "    x = x_plus-x_minus\n",
    "    print(f'q : {q}, intercept : {x[0]}, slope : {round(x[1],3)}')"
   ]
  },
  {
   "cell_type": "code",
   "execution_count": null,
   "id": "116f9771",
   "metadata": {},
   "outputs": [],
   "source": []
  },
  {
   "cell_type": "markdown",
   "id": "6ab8e1b3",
   "metadata": {},
   "source": [
    "### Subgradient"
   ]
  },
  {
   "cell_type": "code",
   "execution_count": null,
   "id": "655ca3d3",
   "metadata": {},
   "outputs": [],
   "source": [
    "def subgradient(alpha, max_its, initial_params, tolerance):\n",
    "    if initial_params is None:\n",
    "        X_tX = X.T.dot(X)\n",
    "        X_tX_inv = np.linalg.inv(X_tx)\n",
    "        w = X_tx_inv.dot(X.T.dot(X))\n",
    "    else:\n",
    "        w = initial_params\n",
    "        \n",
    "    gradient = grad(cost)\n",
    "    its = 0\n",
    "    ws = [w]\n",
    "    cost_values = [cost(w)]\n",
    "    while its < max_its:\n",
    "        its += 1\n",
    "        \n",
    "        grad_eval = gradient(w)\n",
    "        w = w - alpha*grad_eval\n",
    "        cost_val = cost(w)\n",
    "        ws.append(w)\n",
    "        cost_values.append(cost_val)\n",
    "        \n",
    "    min_cost = min(cost_values)\n",
    "    min_idx = cost_values.index(min_cost)\n",
    "    \n",
    "    params = ws[min_idx]\n",
    "    cost = min_cost\n",
    "    "
   ]
  },
  {
   "cell_type": "code",
   "execution_count": null,
   "id": "b95f3282",
   "metadata": {},
   "outputs": [],
   "source": []
  },
  {
   "cell_type": "code",
   "execution_count": null,
   "id": "8b9a4198",
   "metadata": {},
   "outputs": [],
   "source": []
  },
  {
   "cell_type": "code",
   "execution_count": null,
   "id": "f2a9f33b",
   "metadata": {},
   "outputs": [],
   "source": []
  },
  {
   "cell_type": "code",
   "execution_count": null,
   "id": "6a83c8cb",
   "metadata": {},
   "outputs": [],
   "source": []
  },
  {
   "cell_type": "code",
   "execution_count": null,
   "id": "2487ad63",
   "metadata": {},
   "outputs": [],
   "source": []
  },
  {
   "cell_type": "code",
   "execution_count": null,
   "id": "f19b8671",
   "metadata": {},
   "outputs": [],
   "source": []
  },
  {
   "cell_type": "code",
   "execution_count": null,
   "id": "52a3e87c",
   "metadata": {},
   "outputs": [],
   "source": []
  },
  {
   "cell_type": "code",
   "execution_count": 14,
   "id": "7293d9e5",
   "metadata": {},
   "outputs": [],
   "source": [
    "# Libraries\n",
    "import numpy as np\n",
    "import pandas as pd\n",
    "from matplotlib import pyplot as plt\n",
    "from mpl_toolkits.mplot3d import Axes3D\n",
    "from mpl_toolkits import mplot3d\n",
    "from matplotlib import animation\n",
    "from IPython.display import HTML, Image\n",
    "\n",
    "%matplotlib inline\n",
    "plt.style.use('seaborn-white')"
   ]
  },
  {
   "cell_type": "code",
   "execution_count": 15,
   "id": "292e2252",
   "metadata": {},
   "outputs": [],
   "source": [
    "x = np.linspace(0, 1, 40) # 0~1 값들 40개 생성"
   ]
  },
  {
   "cell_type": "code",
   "execution_count": 17,
   "id": "1030468c",
   "metadata": {},
   "outputs": [],
   "source": [
    "noise = 1*np.random.uniform(size = 40) # noise 40개 생성"
   ]
  },
  {
   "cell_type": "code",
   "execution_count": 19,
   "id": "102137ad",
   "metadata": {},
   "outputs": [],
   "source": [
    "y = np.sin(x*1.5 *np.pi) # 삼각함수 값"
   ]
  },
  {
   "cell_type": "code",
   "execution_count": 22,
   "id": "cc3033f0",
   "metadata": {},
   "outputs": [],
   "source": [
    "y_noise = (y+noise).reshape(-1,1)  # 1열로 변경"
   ]
  },
  {
   "cell_type": "code",
   "execution_count": 24,
   "id": "a03c757b",
   "metadata": {},
   "outputs": [],
   "source": [
    "y_noise = y_noise - y_noise.mean()"
   ]
  },
  {
   "cell_type": "code",
   "execution_count": 46,
   "id": "6530a2f3",
   "metadata": {},
   "outputs": [],
   "source": [
    "X = np.vstack((2*x, x**2)).T   # 2x, x^2 // vstack : 배열 세로 결합, T : transposed"
   ]
  },
  {
   "cell_type": "code",
   "execution_count": 33,
   "id": "5db3178a",
   "metadata": {},
   "outputs": [],
   "source": [
    "initial_theta = np.array([4, -4.]).reshape(-1,1)"
   ]
  },
  {
   "cell_type": "code",
   "execution_count": null,
   "id": "063bb5e0",
   "metadata": {},
   "outputs": [],
   "source": []
  },
  {
   "cell_type": "code",
   "execution_count": null,
   "id": "10a490d6",
   "metadata": {},
   "outputs": [],
   "source": [
    "def costfunction(X, y, theta):\n",
    "    #initialsation of useful values\n",
    "    m = np.size(y)\n",
    "    \n",
    "    #cost function in vectorized form\n",
    "    h = X @ theta       # (40, 2) @ (2,1) => (40, 1)\n",
    "    J = float((1./(2*m)) * (h - y).T @ (h - y))\n",
    "    return J"
   ]
  },
  {
   "cell_type": "code",
   "execution_count": 63,
   "id": "d1bfcf95",
   "metadata": {},
   "outputs": [
    {
     "data": {
      "text/plain": [
       "(40, 2)"
      ]
     },
     "execution_count": 63,
     "metadata": {},
     "output_type": "execute_result"
    }
   ],
   "source": [
    "X.shape"
   ]
  },
  {
   "cell_type": "code",
   "execution_count": null,
   "id": "8038ce90",
   "metadata": {},
   "outputs": [],
   "source": [
    "def coordinate_descent(theta, X, y, alpha = 0.03, num_iters = 20):\n",
    "    # coordinate gradient descetn for linear regression \n",
    "    #initialisation of useful values\n",
    "    m,n = X.shape    #(40, 2)\n",
    "    J_history = []\n",
    "    theta_0_hist, theta_1_hist = [], []    #for plotting afterwards\n",
    "    \n",
    "    for i in range(num_iters):\n",
    "        for j in range(n):   # n = 2\n",
    "            #coordinate descent in vectorized form\n",
    "            h = X @ theta\n",
    "            gradient = (x[:, j] @ (h - y))\n",
    "            theta[j] = theta[j] - alpha * gradient\n",
    "            \n",
    "            # saving values for plots\n",
    "            J_history.append(costfunction(X, y, theta))\n",
    "            theta_0_hist.append(theta[0,0])\n",
    "            theta_1_hist.append(theta[1,0])\n",
    "            \n",
    "    return theta, J_history, theta_0_hist, theta_1_hist\n"
   ]
  },
  {
   "cell_type": "code",
   "execution_count": null,
   "id": "ba81c983",
   "metadata": {},
   "outputs": [],
   "source": []
  },
  {
   "cell_type": "code",
   "execution_count": null,
   "id": "94a97b21",
   "metadata": {},
   "outputs": [],
   "source": []
  },
  {
   "cell_type": "code",
   "execution_count": null,
   "id": "3c5d7a84",
   "metadata": {},
   "outputs": [],
   "source": []
  },
  {
   "cell_type": "code",
   "execution_count": null,
   "id": "6fedc0e6",
   "metadata": {},
   "outputs": [],
   "source": []
  },
  {
   "cell_type": "code",
   "execution_count": null,
   "id": "164dfd46",
   "metadata": {},
   "outputs": [],
   "source": []
  },
  {
   "cell_type": "code",
   "execution_count": null,
   "id": "df6ce19d",
   "metadata": {},
   "outputs": [],
   "source": []
  },
  {
   "cell_type": "code",
   "execution_count": null,
   "id": "46c31331",
   "metadata": {},
   "outputs": [],
   "source": []
  },
  {
   "cell_type": "code",
   "execution_count": null,
   "id": "5530202c",
   "metadata": {},
   "outputs": [],
   "source": []
  },
  {
   "cell_type": "code",
   "execution_count": null,
   "id": "a4d17f08",
   "metadata": {},
   "outputs": [],
   "source": []
  },
  {
   "cell_type": "code",
   "execution_count": 1,
   "id": "26c60b72",
   "metadata": {},
   "outputs": [],
   "source": [
    "import pandas as pd\n",
    "import matplotlib.pyplot as plt\n",
    "import numpy as np"
   ]
  },
  {
   "cell_type": "code",
   "execution_count": 2,
   "id": "b5f960f2",
   "metadata": {},
   "outputs": [],
   "source": [
    "x = np.linspace(10, 100, 1000)\n",
    "y = np.linspace(10, 100, 1000)"
   ]
  },
  {
   "cell_type": "code",
   "execution_count": 13,
   "id": "a18f001e",
   "metadata": {},
   "outputs": [],
   "source": [
    "def func(x, y, param):\n",
    "    return param[0] * x + param[1] * y"
   ]
  },
  {
   "cell_type": "code",
   "execution_count": null,
   "id": "41095434",
   "metadata": {},
   "outputs": [],
   "source": [
    "def cosft(x, y, param):\n",
    "    return np.sum((X.dot(param) - y)**2)/(2* len(y))"
   ]
  },
  {
   "cell_type": "code",
   "execution_count": null,
   "id": "aae3f30b",
   "metadata": {},
   "outputs": [],
   "source": [
    "z = func(x, y, [5, 8]) + np.random.normal(0., 10.)\n",
    "z = z.reshape(-1, 1)"
   ]
  },
  {
   "cell_type": "code",
   "execution_count": null,
   "id": "4f587fbd",
   "metadata": {},
   "outputs": [],
   "source": [
    "interc = np.ones(1000)\n",
    "X = np.concatenate([interc.reshape(-1, 1), x.reshape(-1, 1), y.reshape(-1, 1)], axis=1)"
   ]
  },
  {
   "cell_type": "code",
   "execution_count": null,
   "id": "60f5abbd",
   "metadata": {},
   "outputs": [],
   "source": [
    "#param = np.random.randn(3).T\n",
    "param = np.array([2, 2, 2])"
   ]
  },
  {
   "cell_type": "code",
   "execution_count": null,
   "id": "e567ecf9",
   "metadata": {},
   "outputs": [],
   "source": [
    "def gradient_descent(X, y, param, eta=0.01, iter=100):\n",
    "    cost_history = [0] * iter\n",
    "\n",
    "    for iteration in range(iter):\n",
    "        h = X.dot(param)\n",
    "        loss = h - y\n",
    "        gradient = X.T.dot(loss)/(2 * len(y))\n",
    "        param = param - eta * gradient\n",
    "        cost = costf(X, y, param)\n",
    "        #print(cost)\n",
    "        cost_history[iteration] = cost\n",
    "\n",
    "    return param, cost_history"
   ]
  },
  {
   "cell_type": "code",
   "execution_count": null,
   "id": "8a771663",
   "metadata": {},
   "outputs": [],
   "source": [
    "def coordinate_descent(X, y, param, iter=100):\n",
    "    cost_history = [0] * iter\n",
    "\n",
    "    for iteration in range(iter):\n",
    "        for i in range(len(param)):\n",
    "            dele = np.dot(np.delete(X, i, axis=1), np.delete(param, i, axis=0))\n",
    "            param[i] = np.dot(X[:,i].T, (y - dele))/np.sum(np.square(X[:,i]))\n",
    "            cost = costf(X, y, param)\n",
    "            #print(cost)\n",
    "            cost_history[iteration] = cost\n",
    "\n",
    "    return param, cost_history\n",
    "\n",
    "\n",
    "ret, xret = gradient_descent(X, z, param)\n",
    "cret, cxret = coordinate_descent(X, z, param)\n",
    "\n",
    "plt.plot(range(len(xret)), xret, label=\"GD\")\n",
    "plt.plot(range(len(cxret)), cxret, label=\"CD\")\n",
    "plt.legend()\n",
    "plt.show()"
   ]
  },
  {
   "cell_type": "code",
   "execution_count": null,
   "id": "d9d812da",
   "metadata": {},
   "outputs": [],
   "source": []
  },
  {
   "cell_type": "code",
   "execution_count": null,
   "id": "08144875",
   "metadata": {},
   "outputs": [],
   "source": []
  },
  {
   "cell_type": "code",
   "execution_count": null,
   "id": "17a08960",
   "metadata": {},
   "outputs": [],
   "source": []
  }
 ],
 "metadata": {
  "kernelspec": {
   "display_name": "Python 3 (ipykernel)",
   "language": "python",
   "name": "python3"
  },
  "language_info": {
   "codemirror_mode": {
    "name": "ipython",
    "version": 3
   },
   "file_extension": ".py",
   "mimetype": "text/x-python",
   "name": "python",
   "nbconvert_exporter": "python",
   "pygments_lexer": "ipython3",
   "version": "3.9.7"
  }
 },
 "nbformat": 4,
 "nbformat_minor": 5
}
